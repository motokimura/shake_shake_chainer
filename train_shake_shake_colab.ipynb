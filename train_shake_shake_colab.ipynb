{
  "nbformat": 4,
  "nbformat_minor": 0,
  "metadata": {
    "colab": {
      "name": "train_shake_shake_colab.ipynb",
      "version": "0.3.2",
      "provenance": [],
      "collapsed_sections": [],
      "include_colab_link": true
    },
    "kernelspec": {
      "name": "python3",
      "display_name": "Python 3"
    },
    "accelerator": "GPU"
  },
  "cells": [
    {
      "cell_type": "markdown",
      "metadata": {
        "id": "view-in-github",
        "colab_type": "text"
      },
      "source": [
        "<a href=\"https://colab.research.google.com/github/motokimura/shake_shake_chainer/blob/master/train_shake_shake_colab.ipynb\" target=\"_parent\"><img src=\"https://colab.research.google.com/assets/colab-badge.svg\" alt=\"Open In Colab\"/></a>"
      ]
    },
    {
      "metadata": {
        "id": "qDcwlNW0u7b_",
        "colab_type": "code",
        "outputId": "cb25bfb5-fc66-474b-ef2f-431fc464b3ea",
        "colab": {
          "base_uri": "https://localhost:8080/",
          "height": 1615
        }
      },
      "cell_type": "code",
      "source": [
        "# Clone shake-shake repo\n",
        "! git clone https://github.com/motokimura/shake_shake_chainer.git\n",
        "  \n",
        "# Install cupy & chainer\n",
        "! curl https://colab.chainer.org/install | sh -\n",
        "\n",
        "# Install some additional libraries..\n",
        "! pip install tensorboardX chainercv"
      ],
      "execution_count": 1,
      "outputs": [
        {
          "output_type": "stream",
          "text": [
            "Cloning into 'shake_shake_chainer'...\n",
            "remote: Enumerating objects: 74, done.\u001b[K\n",
            "remote: Counting objects: 100% (74/74), done.\u001b[K\n",
            "remote: Compressing objects: 100% (59/59), done.\u001b[K\n",
            "remote: Total 74 (delta 31), reused 38 (delta 12), pack-reused 0\u001b[K\n",
            "Unpacking objects: 100% (74/74), done.\n",
            "  % Total    % Received % Xferd  Average Speed   Time    Time     Time  Current\n",
            "                                 Dload  Upload   Total   Spent    Left  Speed\n",
            "100  1379  100  1379    0     0   7790      0 --:--:-- --:--:-- --:--:--  7790\n",
            "+ apt -y -q install cuda-libraries-dev-9-2\n",
            "Reading package lists...\n",
            "Building dependency tree...\n",
            "Reading state information...\n",
            "The following additional packages will be installed:\n",
            "  cuda-cublas-dev-9-2 cuda-cufft-dev-9-2 cuda-curand-dev-9-2\n",
            "  cuda-cusolver-dev-9-2 cuda-cusparse-dev-9-2 cuda-npp-dev-9-2\n",
            "  cuda-nvgraph-dev-9-2 cuda-nvrtc-dev-9-2\n",
            "The following NEW packages will be installed:\n",
            "  cuda-cublas-dev-9-2 cuda-cufft-dev-9-2 cuda-curand-dev-9-2\n",
            "  cuda-cusolver-dev-9-2 cuda-cusparse-dev-9-2 cuda-libraries-dev-9-2\n",
            "  cuda-npp-dev-9-2 cuda-nvgraph-dev-9-2 cuda-nvrtc-dev-9-2\n",
            "0 upgraded, 9 newly installed, 0 to remove and 5 not upgraded.\n",
            "Need to get 332 MB of archives.\n",
            "After this operation, 972 MB of additional disk space will be used.\n",
            "Get:1 https://developer.download.nvidia.com/compute/cuda/repos/ubuntu1710/x86_64  cuda-cublas-dev-9-2 9.2.148.1-1 [50.4 MB]\n",
            "Get:2 https://developer.download.nvidia.com/compute/cuda/repos/ubuntu1710/x86_64  cuda-cufft-dev-9-2 9.2.148-1 [106 MB]\n",
            "Get:3 https://developer.download.nvidia.com/compute/cuda/repos/ubuntu1710/x86_64  cuda-curand-dev-9-2 9.2.148-1 [57.8 MB]\n",
            "Get:4 https://developer.download.nvidia.com/compute/cuda/repos/ubuntu1710/x86_64  cuda-cusolver-dev-9-2 9.2.148-1 [8,184 kB]\n",
            "Get:5 https://developer.download.nvidia.com/compute/cuda/repos/ubuntu1710/x86_64  cuda-cusparse-dev-9-2 9.2.148-1 [27.8 MB]\n",
            "Get:6 https://developer.download.nvidia.com/compute/cuda/repos/ubuntu1710/x86_64  cuda-nvrtc-dev-9-2 9.2.148-1 [9,348 B]\n",
            "Get:7 https://developer.download.nvidia.com/compute/cuda/repos/ubuntu1710/x86_64  cuda-nvgraph-dev-9-2 9.2.148-1 [30.1 MB]\n",
            "Get:8 https://developer.download.nvidia.com/compute/cuda/repos/ubuntu1710/x86_64  cuda-npp-dev-9-2 9.2.148-1 [52.0 MB]\n",
            "Get:9 https://developer.download.nvidia.com/compute/cuda/repos/ubuntu1710/x86_64  cuda-libraries-dev-9-2 9.2.148-1 [2,598 B]\n",
            "Fetched 332 MB in 6s (51.2 MB/s)\n",
            "Selecting previously unselected package cuda-cublas-dev-9-2.\n",
            "(Reading database ... 22298 files and directories currently installed.)\n",
            "Preparing to unpack .../0-cuda-cublas-dev-9-2_9.2.148.1-1_amd64.deb ...\n",
            "Unpacking cuda-cublas-dev-9-2 (9.2.148.1-1) ...\n",
            "Selecting previously unselected package cuda-cufft-dev-9-2.\n",
            "Preparing to unpack .../1-cuda-cufft-dev-9-2_9.2.148-1_amd64.deb ...\n",
            "Unpacking cuda-cufft-dev-9-2 (9.2.148-1) ...\n",
            "Selecting previously unselected package cuda-curand-dev-9-2.\n",
            "Preparing to unpack .../2-cuda-curand-dev-9-2_9.2.148-1_amd64.deb ...\n",
            "Unpacking cuda-curand-dev-9-2 (9.2.148-1) ...\n",
            "Selecting previously unselected package cuda-cusolver-dev-9-2.\n",
            "Preparing to unpack .../3-cuda-cusolver-dev-9-2_9.2.148-1_amd64.deb ...\n",
            "Unpacking cuda-cusolver-dev-9-2 (9.2.148-1) ...\n",
            "Selecting previously unselected package cuda-cusparse-dev-9-2.\n",
            "Preparing to unpack .../4-cuda-cusparse-dev-9-2_9.2.148-1_amd64.deb ...\n",
            "Unpacking cuda-cusparse-dev-9-2 (9.2.148-1) ...\n",
            "Selecting previously unselected package cuda-nvrtc-dev-9-2.\n",
            "Preparing to unpack .../5-cuda-nvrtc-dev-9-2_9.2.148-1_amd64.deb ...\n",
            "Unpacking cuda-nvrtc-dev-9-2 (9.2.148-1) ...\n",
            "Selecting previously unselected package cuda-nvgraph-dev-9-2.\n",
            "Preparing to unpack .../6-cuda-nvgraph-dev-9-2_9.2.148-1_amd64.deb ...\n",
            "Unpacking cuda-nvgraph-dev-9-2 (9.2.148-1) ...\n",
            "Selecting previously unselected package cuda-npp-dev-9-2.\n",
            "Preparing to unpack .../7-cuda-npp-dev-9-2_9.2.148-1_amd64.deb ...\n",
            "Unpacking cuda-npp-dev-9-2 (9.2.148-1) ...\n",
            "Selecting previously unselected package cuda-libraries-dev-9-2.\n",
            "Preparing to unpack .../8-cuda-libraries-dev-9-2_9.2.148-1_amd64.deb ...\n",
            "Unpacking cuda-libraries-dev-9-2 (9.2.148-1) ...\n",
            "Setting up cuda-npp-dev-9-2 (9.2.148-1) ...\n",
            "Setting up cuda-curand-dev-9-2 (9.2.148-1) ...\n",
            "Setting up cuda-nvrtc-dev-9-2 (9.2.148-1) ...\n",
            "Setting up cuda-cusolver-dev-9-2 (9.2.148-1) ...\n",
            "Setting up cuda-cufft-dev-9-2 (9.2.148-1) ...\n",
            "Setting up cuda-cusparse-dev-9-2 (9.2.148-1) ...\n",
            "Setting up cuda-cublas-dev-9-2 (9.2.148.1-1) ...\n",
            "Setting up cuda-nvgraph-dev-9-2 (9.2.148-1) ...\n",
            "Setting up cuda-libraries-dev-9-2 (9.2.148-1) ...\n",
            "+ pip install -q cupy-cuda92  chainer \n",
            "+ set +ex\n",
            "Installation succeeded!\n",
            "Collecting tensorboardX\n",
            "\u001b[?25l  Downloading https://files.pythonhosted.org/packages/b1/d2/e08fe62f3554fbba081e80f6b23128df53b2f74ed4dcde73ec4a84dc53fb/tensorboardX-1.4-py2.py3-none-any.whl (67kB)\n",
            "\u001b[K    100% |████████████████████████████████| 71kB 4.1MB/s \n",
            "\u001b[?25hCollecting chainercv\n",
            "\u001b[?25l  Downloading https://files.pythonhosted.org/packages/bb/1c/cee12630628d0acd4d6c5d7a3ba196a3aa079a863baa3dc74eb70d8494c5/chainercv-0.11.0.tar.gz (223kB)\n",
            "\u001b[K    100% |████████████████████████████████| 225kB 6.7MB/s \n",
            "\u001b[?25hRequirement already satisfied: six in /usr/local/lib/python3.6/dist-packages (from tensorboardX) (1.11.0)\n",
            "Requirement already satisfied: numpy in /usr/local/lib/python3.6/dist-packages (from tensorboardX) (1.14.6)\n",
            "Requirement already satisfied: protobuf>=3.2.0 in /usr/local/lib/python3.6/dist-packages (from tensorboardX) (3.6.1)\n",
            "Requirement already satisfied: chainer>=5.0 in /usr/local/lib/python3.6/dist-packages (from chainercv) (5.0.0)\n",
            "Requirement already satisfied: Pillow in /usr/local/lib/python3.6/dist-packages (from chainercv) (4.0.0)\n",
            "Requirement already satisfied: setuptools in /usr/local/lib/python3.6/dist-packages (from protobuf>=3.2.0->tensorboardX) (40.6.2)\n",
            "Requirement already satisfied: filelock in /usr/local/lib/python3.6/dist-packages (from chainer>=5.0->chainercv) (3.0.10)\n",
            "Requirement already satisfied: olefile in /usr/local/lib/python3.6/dist-packages (from Pillow->chainercv) (0.46)\n",
            "Building wheels for collected packages: chainercv\n",
            "  Running setup.py bdist_wheel for chainercv ... \u001b[?25l-\b \b\\\b \b|\b \b/\b \b-\b \b\\\b \b|\b \b/\b \bdone\n",
            "\u001b[?25h  Stored in directory: /root/.cache/pip/wheels/95/24/5a/1611db416857b5e092962bc22a70722315881e03970c7fa966\n",
            "Successfully built chainercv\n",
            "Installing collected packages: tensorboardX, chainercv\n",
            "Successfully installed chainercv-0.11.0 tensorboardX-1.4\n"
          ],
          "name": "stdout"
        }
      ]
    },
    {
      "metadata": {
        "id": "js3AoIHqy_1g",
        "colab_type": "code",
        "outputId": "96a05f41-329c-4b6c-c088-62484c3ebc76",
        "colab": {
          "base_uri": "https://localhost:8080/",
          "height": 68
        }
      },
      "cell_type": "code",
      "source": [
        "# Run tensorboard before starting model training\n",
        "\n",
        "! mkdir -p /content/shake_shake_chainer/results\n",
        "\n",
        "! npm install -g localtunnel\n",
        "get_ipython().system_raw(\n",
        "    'tensorboard --logdir /content/shake_shake_chainer/results --host 0.0.0.0 --port 6006 &'\n",
        ")\n",
        "get_ipython().system_raw('lt --port 6006 > /content/url.txt 2>&1 &')"
      ],
      "execution_count": 2,
      "outputs": [
        {
          "output_type": "stream",
          "text": [
            "\u001b[K\u001b[?25h/tools/node/bin/lt -> /tools/node/lib/node_modules/localtunnel/bin/client\n",
            "\u001b[K\u001b[?25h+ localtunnel@1.9.1\n",
            "added 54 packages from 31 contributors in 3.685s\n"
          ],
          "name": "stdout"
        }
      ]
    },
    {
      "metadata": {
        "id": "_X4YOx2u0WA0",
        "colab_type": "code",
        "outputId": "666d7965-0398-4e91-a61c-ea12f08f9c7c",
        "colab": {
          "base_uri": "https://localhost:8080/",
          "height": 34
        }
      },
      "cell_type": "code",
      "source": [
        "# After starting model training, you can check test accuracy from the URL below\n",
        "\n",
        "! cat /content/url.txt"
      ],
      "execution_count": 4,
      "outputs": [
        {
          "output_type": "stream",
          "text": [
            "your url is: https://shaggy-cougar-50.localtunnel.me\n"
          ],
          "name": "stdout"
        }
      ]
    },
    {
      "metadata": {
        "id": "C3KgA7aYqYR1",
        "colab_type": "code",
        "outputId": "4aa6d29a-7231-479a-d8b8-7eb58213314d",
        "colab": {
          "base_uri": "https://localhost:8080/",
          "height": 1375
        }
      },
      "cell_type": "code",
      "source": [
        "# Start training\n",
        "import os\n",
        "os.chdir('/content/shake_shake_chainer')\n",
        "\n",
        "! python train_model.py -o run_1 --nobar"
      ],
      "execution_count": 0,
      "outputs": [
        {
          "output_type": "stream",
          "text": [
            "GPU: 0\n",
            "# Minibatch-size: 128\n",
            "# epoch: 1800\n",
            "\n",
            "Using CIFAR10 dataset.\n",
            "Downloading from https://www.cs.toronto.edu/~kriz/cifar-10-python.tar.gz...\n",
            "Finised data preparation. Starting model training...\n",
            "\n",
            "epoch       main/loss   validation/main/loss  main/accuracy  validation/main/accuracy  lr          elapsed_time\n",
            "\u001b[J1           1.72311     1.39882               0.367227       0.482892                  0.1         535.182       \n",
            "\u001b[J2           1.28679     1.25345               0.534427       0.573873                  0.0999999   1073.31       \n",
            "\u001b[J3           1.07681     0.915376              0.617628       0.672172                  0.0999997   1611.24       \n",
            "\u001b[J4           0.925219    0.704724              0.673653       0.756527                  0.0999993   2152.86       \n",
            "\u001b[J5           0.801945    0.674403              0.719329       0.77057                   0.0999988   2696.18       \n",
            "\u001b[J6           0.714585    0.602248              0.751062       0.794798                  0.0999981   3238.01       \n",
            "\u001b[J7           0.662057    0.62903               0.77058        0.785799                  0.0999973   3781.17       \n",
            "\u001b[J8           0.598191    0.546008              0.79349        0.811808                  0.0999963   4321.44       \n",
            "\u001b[J9           0.562711    0.518059              0.806566       0.818928                  0.0999951   4863.58       \n",
            "\u001b[J10          0.531374    0.468624              0.818175       0.839597                  0.0999938   5405.5        \n",
            "\u001b[J11          0.495405    0.433707              0.829708       0.851266                  0.0999924   5946.78       \n",
            "\u001b[J12          0.469888    0.404903              0.838495       0.864913                  0.0999908   6489.46       \n",
            "\u001b[J13          0.448859    0.427841              0.845348       0.859375                  0.099989    7030.81       \n",
            "\u001b[J14          0.419826    0.390135              0.855409       0.87055                   0.0999871   7571.68       \n",
            "\u001b[J15          0.413914    0.368616              0.856058       0.876187                  0.0999851   8114.69       \n",
            "\u001b[J16          0.400082    0.365854              0.861859       0.880934                  0.0999829   8656.58       \n",
            "\u001b[J17          0.384959    0.357543              0.866928       0.880538                  0.0999805   9200.12       \n",
            "\u001b[J18          0.370179    0.32152               0.872722       0.891812                  0.099978    9743.6        \n",
            "\u001b[J19          0.357621    0.337832              0.876643       0.884889                  0.0999753   10285.2       \n",
            "\u001b[J20          0.350903    0.329255              0.880794       0.891218                  0.0999725   10828.4       \n",
            "\u001b[J21          0.337766    0.3178                0.883052       0.893691                  0.0999695   11369.5       \n",
            "\u001b[J22          0.323785    0.324092              0.888782       0.890823                  0.0999664   11900         \n",
            "\u001b[J23          0.31883     0.314845              0.889446       0.892504                  0.0999631   12431         \n",
            "\u001b[J24          0.304428    0.302314              0.894752       0.900514                  0.0999597   12962.2       \n",
            "\u001b[J25          0.294277    0.390623              0.898418       0.876088                  0.0999561   13493.2       \n",
            "\u001b[J26          0.294316    0.285198              0.898597       0.906151                  0.0999524   14024         \n",
            "\u001b[J27          0.287901    0.269842              0.899339       0.910008                  0.0999485   14553.1       \n",
            "\u001b[J28          0.278466    0.306765              0.903373       0.896361                  0.0999445   15084.5       \n",
            "\u001b[J29          0.27139     0.296086              0.90655        0.901998                  0.0999403   15614.8       \n",
            "\u001b[J30          0.277947    0.323746              0.902845       0.891812                  0.099936    16144.3       \n",
            "\u001b[J31          0.268081    0.305698              0.907169       0.897251                  0.0999315   16674.1       \n",
            "\u001b[J32          0.253134    0.271745              0.91246        0.90892                   0.0999268   17202.7       \n",
            "\u001b[J33          0.25985     0.313188              0.909107       0.900613                  0.099922    17732         \n",
            "\u001b[J34          0.248275    0.286357              0.913043       0.905657                  0.0999171   18261         \n",
            "\u001b[J35          0.240662    0.27272               0.915845       0.908525                  0.099912    18788.8       \n",
            "\u001b[J36          0.237496    0.306873              0.917359       0.89913                   0.0999067   19317.5       \n",
            "\u001b[J37          0.246556    0.290958              0.915741       0.904074                  0.0999013   19845.4       \n",
            "\u001b[J38          0.238044    0.282108              0.916827       0.907832                  0.0998958   20371.9       \n",
            "\u001b[J39          0.218926    0.277726              0.925212       0.912381                  0.0998901   20900         \n",
            "\u001b[J40          0.228522    0.275219              0.920212       0.913568                  0.0998842   21438.4       \n",
            "\u001b[J41          0.228048    0.269336              0.920876       0.908525                  0.0998782   21978.4       \n",
            "\u001b[J42          0.229195    0.277809              0.919797       0.910799                  0.099872    22507.9       \n",
            "\u001b[J43          0.220499    0.278213              0.923337       0.909711                  0.0998657   23034.4       \n",
            "\u001b[J44          0.226785    0.251214              0.920876       0.918216                  0.0998593   23563.1       \n",
            "\u001b[J45          0.215368    0.330663              0.925991       0.894976                  0.0998526   24089.8       \n",
            "\u001b[J46          0.218924    0.265106              0.923437       0.916535                  0.0998459   24614.8       \n",
            "\u001b[J47          0.227102    0.281448              0.920656       0.910799                  0.0998389   25141.4       \n",
            "\u001b[J48          0.213753    0.273199              0.925521       0.909316                  0.0998319   25667.5       \n",
            "\u001b[J49          0.211844    0.329557              0.926431       0.902294                  0.0998246   26195.1       \n",
            "\u001b[J50          0.215462    0.258684              0.925192       0.916238                  0.0998173   26722.4       \n",
            "\u001b[J51          0.204516    0.257976              0.928826       0.915447                  0.0998097   27248         \n",
            "\u001b[J52          0.212219    0.344051              0.92693        0.894778                  0.0998021   27774.7       \n",
            "\u001b[J53          0.206373    0.274194              0.92733        0.912085                  0.0997942   28302.2       \n",
            "\u001b[J54          0.203202    0.245157              0.928285       0.919699                  0.0997862   28829.7       \n",
            "\u001b[J55          0.210395    0.312157              0.92711        0.90714                   0.0997781   29357.6       \n",
            "\u001b[J56          0.204581    0.248467              0.927684       0.921578                  0.0997698   29883.6       \n",
            "\u001b[J57          0.201657    0.26106               0.929767       0.916337                  0.0997614   30411.4       \n",
            "\u001b[J58          0.197924    0.238157              0.930267       0.920688                  0.0997528   30940.6       \n",
            "\u001b[J59          0.192071    0.260397              0.933854       0.91693                   0.099744    31468.2       \n",
            "\u001b[J60          0.193241    0.236109              0.933824       0.922271                  0.0997351   31996.3       \n",
            "\u001b[J61          0.190169    0.249971              0.933923       0.919304                  0.0997261   32524         \n",
            "\u001b[J62          0.185194    0.337371              0.935477       0.895669                  0.0997169   33050.8       \n",
            "\u001b[J63          0.195176    0.286702              0.932365       0.911788                  0.0997075   33579.5       \n",
            "\u001b[J64          0.187164    0.257092              0.934455       0.919502                  0.099698    34106         \n",
            "\u001b[J65          0.194463    0.25075               0.932065       0.923655                  0.0996884   34636.8       \n",
            "\u001b[J66          0.193421    0.277281              0.934223       0.912579                  0.0996786   35173.1       \n",
            "\u001b[J67          0.184587    0.306532              0.93756        0.902888                  0.0996686   35702.1       \n",
            "\u001b[J68          0.196745    0.260492              0.932145       0.915051                  0.0996585   36229.2       \n",
            "\u001b[J69          0.190553    0.249111              0.934103       0.919205                  0.0996483   36756.3       \n"
          ],
          "name": "stdout"
        }
      ]
    },
    {
      "metadata": {
        "id": "olqWu5FxzgXj",
        "colab_type": "code",
        "colab": {}
      },
      "cell_type": "code",
      "source": [
        ""
      ],
      "execution_count": 0,
      "outputs": []
    }
  ]
}